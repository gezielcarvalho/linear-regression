{
 "cells": [
  {
   "cell_type": "markdown",
   "id": "d52c5a0e-4267-44f2-ab8f-9a9ed8c4e90c",
   "metadata": {},
   "source": [
    "# Statistic Analysis - Statsmodels\n",
    "## Business problem\n",
    "Is there any relationship between the area of real estate (in square meters) and the value of rent in a given city? If so, how can we measure it?"
   ]
  },
  {
   "cell_type": "code",
   "execution_count": 2,
   "id": "6dc8e080-f058-4f59-ba80-da6d2f3ffe8a",
   "metadata": {},
   "outputs": [
    {
     "name": "stdout",
     "output_type": "stream",
     "text": [
      "Python Version:  3.11.7\n"
     ]
    }
   ],
   "source": [
    "# Python Version\n",
    "from platform import python_version\n",
    "print('Python Version: ', python_version())"
   ]
  },
  {
   "cell_type": "code",
   "execution_count": 3,
   "id": "0d9ddde5-4564-44b8-a02a-a4affcf98246",
   "metadata": {},
   "outputs": [],
   "source": [
    "# Imports\n",
    "import pandas as pd\n",
    "import matplotlib.pyplot as plt\n",
    "import seaborn as sns\n",
    "import statsmodels.api as sm"
   ]
  },
  {
   "cell_type": "code",
   "execution_count": 4,
   "id": "59c73ed3-5e9b-4ef3-8269-6a018ca9228b",
   "metadata": {},
   "outputs": [],
   "source": [
    "# Loading data\n",
    "dataframe_rental = pd.read_csv('dataset.csv')"
   ]
  },
  {
   "cell_type": "code",
   "execution_count": 6,
   "id": "a11a443c-e511-4959-8f9b-5de78d0f9903",
   "metadata": {},
   "outputs": [
    {
     "data": {
      "text/plain": [
       "(3000, 7)"
      ]
     },
     "execution_count": 6,
     "metadata": {},
     "output_type": "execute_result"
    }
   ],
   "source": [
    "dataframe_rental.shape"
   ]
  },
  {
   "cell_type": "code",
   "execution_count": 7,
   "id": "68288acd-71f5-4ddc-aa30-d03cc803474e",
   "metadata": {},
   "outputs": [
    {
     "data": {
      "text/plain": [
       "Index(['rent_value', 'area_sqm', 'construction_year', 'location_code',\n",
       "       'bathroom_qty', 'kitchen_qty', 'zone_code'],\n",
       "      dtype='object')"
      ]
     },
     "execution_count": 7,
     "metadata": {},
     "output_type": "execute_result"
    }
   ],
   "source": [
    "dataframe_rental.columns"
   ]
  },
  {
   "cell_type": "code",
   "execution_count": 8,
   "id": "9e6518b5-f380-4ca5-b66c-fd925a1815f6",
   "metadata": {},
   "outputs": [
    {
     "data": {
      "text/html": [
       "<div>\n",
       "<style scoped>\n",
       "    .dataframe tbody tr th:only-of-type {\n",
       "        vertical-align: middle;\n",
       "    }\n",
       "\n",
       "    .dataframe tbody tr th {\n",
       "        vertical-align: top;\n",
       "    }\n",
       "\n",
       "    .dataframe thead th {\n",
       "        text-align: right;\n",
       "    }\n",
       "</style>\n",
       "<table border=\"1\" class=\"dataframe\">\n",
       "  <thead>\n",
       "    <tr style=\"text-align: right;\">\n",
       "      <th></th>\n",
       "      <th>rent_value</th>\n",
       "      <th>area_sqm</th>\n",
       "      <th>construction_year</th>\n",
       "      <th>location_code</th>\n",
       "      <th>bathroom_qty</th>\n",
       "      <th>kitchen_qty</th>\n",
       "      <th>zone_code</th>\n",
       "    </tr>\n",
       "  </thead>\n",
       "  <tbody>\n",
       "    <tr>\n",
       "      <th>0</th>\n",
       "      <td>120.97436</td>\n",
       "      <td>35</td>\n",
       "      <td>1939</td>\n",
       "      <td>1</td>\n",
       "      <td>0</td>\n",
       "      <td>0</td>\n",
       "      <td>1112</td>\n",
       "    </tr>\n",
       "    <tr>\n",
       "      <th>1</th>\n",
       "      <td>436.97433</td>\n",
       "      <td>104</td>\n",
       "      <td>1939</td>\n",
       "      <td>1</td>\n",
       "      <td>1</td>\n",
       "      <td>0</td>\n",
       "      <td>1112</td>\n",
       "    </tr>\n",
       "    <tr>\n",
       "      <th>2</th>\n",
       "      <td>355.74360</td>\n",
       "      <td>29</td>\n",
       "      <td>1971</td>\n",
       "      <td>2</td>\n",
       "      <td>0</td>\n",
       "      <td>0</td>\n",
       "      <td>2114</td>\n",
       "    </tr>\n",
       "    <tr>\n",
       "      <th>3</th>\n",
       "      <td>282.92310</td>\n",
       "      <td>39</td>\n",
       "      <td>1972</td>\n",
       "      <td>2</td>\n",
       "      <td>0</td>\n",
       "      <td>0</td>\n",
       "      <td>2148</td>\n",
       "    </tr>\n",
       "    <tr>\n",
       "      <th>4</th>\n",
       "      <td>807.23080</td>\n",
       "      <td>97</td>\n",
       "      <td>1985</td>\n",
       "      <td>1</td>\n",
       "      <td>0</td>\n",
       "      <td>0</td>\n",
       "      <td>2222</td>\n",
       "    </tr>\n",
       "  </tbody>\n",
       "</table>\n",
       "</div>"
      ],
      "text/plain": [
       "   rent_value  area_sqm  construction_year  location_code  bathroom_qty  \\\n",
       "0   120.97436        35               1939              1             0   \n",
       "1   436.97433       104               1939              1             1   \n",
       "2   355.74360        29               1971              2             0   \n",
       "3   282.92310        39               1972              2             0   \n",
       "4   807.23080        97               1985              1             0   \n",
       "\n",
       "   kitchen_qty  zone_code  \n",
       "0            0       1112  \n",
       "1            0       1112  \n",
       "2            0       2114  \n",
       "3            0       2148  \n",
       "4            0       2222  "
      ]
     },
     "execution_count": 8,
     "metadata": {},
     "output_type": "execute_result"
    }
   ],
   "source": [
    "dataframe_rental.head()"
   ]
  },
  {
   "cell_type": "code",
   "execution_count": 9,
   "id": "66612add-1492-4d0d-9163-81ffc8c60e16",
   "metadata": {},
   "outputs": [
    {
     "name": "stdout",
     "output_type": "stream",
     "text": [
      "<class 'pandas.core.frame.DataFrame'>\n",
      "RangeIndex: 3000 entries, 0 to 2999\n",
      "Data columns (total 7 columns):\n",
      " #   Column             Non-Null Count  Dtype  \n",
      "---  ------             --------------  -----  \n",
      " 0   rent_value         3000 non-null   float64\n",
      " 1   area_sqm           3000 non-null   int64  \n",
      " 2   construction_year  3000 non-null   int64  \n",
      " 3   location_code      3000 non-null   int64  \n",
      " 4   bathroom_qty       3000 non-null   int64  \n",
      " 5   kitchen_qty        3000 non-null   int64  \n",
      " 6   zone_code          3000 non-null   int64  \n",
      "dtypes: float64(1), int64(6)\n",
      "memory usage: 164.2 KB\n"
     ]
    }
   ],
   "source": [
    "dataframe_rental.info()"
   ]
  },
  {
   "cell_type": "code",
   "execution_count": null,
   "id": "a5b8ddfa-547a-40ca-a4fb-09151c830b54",
   "metadata": {},
   "outputs": [],
   "source": []
  }
 ],
 "metadata": {
  "kernelspec": {
   "display_name": "Python 3 (ipykernel)",
   "language": "python",
   "name": "python3"
  },
  "language_info": {
   "codemirror_mode": {
    "name": "ipython",
    "version": 3
   },
   "file_extension": ".py",
   "mimetype": "text/x-python",
   "name": "python",
   "nbconvert_exporter": "python",
   "pygments_lexer": "ipython3",
   "version": "3.11.7"
  }
 },
 "nbformat": 4,
 "nbformat_minor": 5
}
